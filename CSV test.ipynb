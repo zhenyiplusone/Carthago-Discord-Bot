{
 "cells": [
  {
   "cell_type": "code",
   "execution_count": 6,
   "metadata": {},
   "outputs": [
    {
     "name": "stdout",
     "output_type": "stream",
     "text": [
      "Target Link,Target Name,Target ID,Attacker 1,Attacker 1 Leader,Attacker 2,Attacker 2 Leader,Attacker 3,Attacker 3 Leader,,Defender 1,Defender 1 Leader,Defender 2,Defender 2 Leader,Defender 3,Defender 3 Leader,Defender 4,Defender 4 Leader,Defender 5,Defender 5 Leader\n",
      "\n",
      "https://politicsandwar.com/nation/id=12118,Darwinium of Slugs,12118,https://politicsandwar.com/nation/id=48730,EvilPiggyFooFoo,https://politicsandwar.com/nation/id=90038,Azrael,,#ERROR!,,,Azrael,,#ERROR!,,#ERROR!,,#ERROR!,,#ERROR!\n",
      "\n"
     ]
    }
   ],
   "source": [
    "import csv\n",
    "with open(f'csv/Blitz_Sheet_1_-_Sheet1.csv') as csv_file:\n",
    "    csv_reader = csv.reader(csv_file, delimiter=',')\n",
    "    line = 0\n",
    "    for row in csv_file:\n",
    "        if line != 0:\n",
    "            print(row)\n",
    "        line += 1"
   ]
  },
  {
   "cell_type": "code",
   "execution_count": 1,
   "metadata": {},
   "outputs": [
    {
     "name": "stdout",
     "output_type": "stream",
     "text": [
      "hibleghhihi\n"
     ]
    }
   ],
   "source": [
    "x = 'hi'\n",
    "\n",
    "x += f'blegh{x}hi'\n",
    "\n",
    "print(x)\n"
   ]
  },
  {
   "cell_type": "code",
   "execution_count": null,
   "metadata": {},
   "outputs": [],
   "source": []
  }
 ],
 "metadata": {
  "kernelspec": {
   "display_name": "Python 3",
   "language": "python",
   "name": "python3"
  },
  "language_info": {
   "codemirror_mode": {
    "name": "ipython",
    "version": 3
   },
   "file_extension": ".py",
   "mimetype": "text/x-python",
   "name": "python",
   "nbconvert_exporter": "python",
   "pygments_lexer": "ipython3",
   "version": "3.7.6"
  }
 },
 "nbformat": 4,
 "nbformat_minor": 4
}
